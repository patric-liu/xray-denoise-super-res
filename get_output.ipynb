{
 "cells": [
  {
   "cell_type": "code",
   "execution_count": 1,
   "metadata": {},
   "outputs": [
    {
     "name": "stderr",
     "output_type": "stream",
     "text": [
      "Using TensorFlow backend.\n"
     ]
    }
   ],
   "source": [
    "import getdata\n",
    "import pickle\n",
    "import numpy as np \n",
    "import network\n",
    "import matplotlib.pyplot as plt\n",
    "import scipy.ndimage\n",
    "import cv2\n",
    "import os\n",
    "from keras.models import model_from_json, Model\n",
    "from keras.callbacks import TensorBoard"
   ]
  },
  {
   "cell_type": "code",
   "execution_count": 10,
   "metadata": {},
   "outputs": [
    {
     "name": "stdout",
     "output_type": "stream",
     "text": [
      "__________________________________________________________________________________________________\n",
      "Layer (type)                    Output Shape         Param #     Connected to                     \n",
      "==================================================================================================\n",
      "input_1 (InputLayer)            (None, 64, 64, 1)    0                                            \n",
      "__________________________________________________________________________________________________\n",
      "conv2d_1 (Conv2D)               (None, 64, 64, 16)   160         input_1[0][0]                    \n",
      "__________________________________________________________________________________________________\n",
      "conv2d_2 (Conv2D)               (None, 64, 64, 16)   2320        conv2d_1[0][0]                   \n",
      "__________________________________________________________________________________________________\n",
      "add_1 (Add)                     (None, 64, 64, 16)   0           conv2d_2[0][0]                   \n",
      "                                                                 input_1[0][0]                    \n",
      "__________________________________________________________________________________________________\n",
      "activation_1 (Activation)       (None, 64, 64, 16)   0           add_1[0][0]                      \n",
      "__________________________________________________________________________________________________\n",
      "conv2d_3 (Conv2D)               (None, 64, 64, 16)   2320        activation_1[0][0]               \n",
      "__________________________________________________________________________________________________\n",
      "conv2d_4 (Conv2D)               (None, 64, 64, 16)   2320        conv2d_3[0][0]                   \n",
      "__________________________________________________________________________________________________\n",
      "add_2 (Add)                     (None, 64, 64, 16)   0           conv2d_4[0][0]                   \n",
      "                                                                 activation_1[0][0]               \n",
      "__________________________________________________________________________________________________\n",
      "activation_2 (Activation)       (None, 64, 64, 16)   0           add_2[0][0]                      \n",
      "__________________________________________________________________________________________________\n",
      "conv2d_transpose_1 (Conv2DTrans (None, 128, 128, 16) 2320        activation_2[0][0]               \n",
      "__________________________________________________________________________________________________\n",
      "conv2d_5 (Conv2D)               (None, 128, 128, 16) 2320        conv2d_transpose_1[0][0]         \n",
      "__________________________________________________________________________________________________\n",
      "conv2d_6 (Conv2D)               (None, 128, 128, 16) 2320        conv2d_5[0][0]                   \n",
      "__________________________________________________________________________________________________\n",
      "add_3 (Add)                     (None, 128, 128, 16) 0           conv2d_6[0][0]                   \n",
      "                                                                 conv2d_transpose_1[0][0]         \n",
      "__________________________________________________________________________________________________\n",
      "activation_3 (Activation)       (None, 128, 128, 16) 0           add_3[0][0]                      \n",
      "__________________________________________________________________________________________________\n",
      "conv2d_7 (Conv2D)               (None, 128, 128, 16) 2320        activation_3[0][0]               \n",
      "__________________________________________________________________________________________________\n",
      "conv2d_8 (Conv2D)               (None, 128, 128, 16) 2320        conv2d_7[0][0]                   \n",
      "__________________________________________________________________________________________________\n",
      "add_4 (Add)                     (None, 128, 128, 16) 0           conv2d_8[0][0]                   \n",
      "                                                                 activation_3[0][0]               \n",
      "__________________________________________________________________________________________________\n",
      "activation_4 (Activation)       (None, 128, 128, 16) 0           add_4[0][0]                      \n",
      "__________________________________________________________________________________________________\n",
      "conv2d_9 (Conv2D)               (None, 128, 128, 1)  145         activation_4[0][0]               \n",
      "==================================================================================================\n",
      "Total params: 18,865\n",
      "Trainable params: 18,865\n",
      "Non-trainable params: 0\n",
      "__________________________________________________________________________________________________\n"
     ]
    }
   ],
   "source": [
    "# Load Model\n",
    "\n",
    "model_name = 'deepresdeconv4.4'\n",
    "\n",
    "# model reconstruction from JSON\n",
    "net = network.Network(None, None, None, test = 0)\n",
    "with open(os.getcwd() + '/model_weights/'+ model_name +'_architecture.json', 'r') as f:\n",
    "    net.network = model_from_json(f.read())\n",
    "# load weights into the model\n",
    "net.network.load_weights(os.getcwd() + '/model_weights/'+ model_name +'_weights.h5')\n",
    "\n",
    "net.network.summary()"
   ]
  },
  {
   "cell_type": "code",
   "execution_count": 8,
   "metadata": {},
   "outputs": [],
   "source": [
    "# load data\n",
    "flatten = False      # Get 1D data\n",
    "rescale = True       #  Rescale 'RGB' values from [0,255] to [1,0]\n",
    "denoise_only = False # Reshape target values from 128x128 to 64x64\n",
    "test_data, rng = getdata.get_test(flatten = flatten, rescale = rescale, \\\n",
    "                             denoise_only = denoise_only, amount = 0)"
   ]
  },
  {
   "cell_type": "code",
   "execution_count": 11,
   "metadata": {},
   "outputs": [
    {
     "name": "stdout",
     "output_type": "stream",
     "text": [
      "finished processing 0 images!\n",
      "finished processing 200 images!\n",
      "finished processing 400 images!\n",
      "finished processing 600 images!\n",
      "finished processing 800 images!\n",
      "finished processing 1000 images!\n",
      "finished processing 1200 images!\n",
      "finished processing 1400 images!\n",
      "finished processing 1600 images!\n",
      "finished processing 1800 images!\n",
      "finished processing 2000 images!\n",
      "finished processing 2200 images!\n",
      "finished processing 2400 images!\n",
      "finished processing 2600 images!\n",
      "finished processing 2800 images!\n",
      "finished processing 3000 images!\n",
      "finished processing 3200 images!\n",
      "finished processing 3400 images!\n",
      "finished processing 3600 images!\n",
      "finished processing 3800 images!\n"
     ]
    }
   ],
   "source": [
    "for n, index in enumerate(rng):\n",
    "    test_output = net.predict(np.array([test_data[n], test_data[n]]))[0]\n",
    "    test_output = (1-test_output)*255\n",
    "    path = os.getcwd() + '/xray_images/test_images_128x128/test_' + ('00000' + str(index))[-5:] + '.png'\n",
    "    cv2.imwrite(path,test_output)\n",
    "    if n%200 == 0:\n",
    "        print(\"finished processing {} images!\".format(n))\n",
    "        \n",
    "print('done')"
   ]
  }
 ],
 "metadata": {
  "kernelspec": {
   "display_name": "Python 3",
   "language": "python",
   "name": "python3"
  },
  "language_info": {
   "codemirror_mode": {
    "name": "ipython",
    "version": 3
   },
   "file_extension": ".py",
   "mimetype": "text/x-python",
   "name": "python",
   "nbconvert_exporter": "python",
   "pygments_lexer": "ipython3",
   "version": "3.5.2"
  }
 },
 "nbformat": 4,
 "nbformat_minor": 2
}
